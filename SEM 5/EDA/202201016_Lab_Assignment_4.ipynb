{
  "nbformat": 4,
  "nbformat_minor": 0,
  "metadata": {
    "colab": {
      "provenance": []
    },
    "kernelspec": {
      "name": "python3",
      "display_name": "Python 3"
    },
    "language_info": {
      "name": "python"
    }
  },
  "cells": [
    {
      "cell_type": "code",
      "source": [
        "!pip install beautifulsoup4 requests pandas"
      ],
      "metadata": {
        "colab": {
          "base_uri": "https://localhost:8080/"
        },
        "id": "NEZhL4CZ7aYU",
        "outputId": "8d4e06a9-cc3c-4432-8bed-5a3321a79423"
      },
      "execution_count": 3,
      "outputs": [
        {
          "output_type": "stream",
          "name": "stdout",
          "text": [
            "Requirement already satisfied: beautifulsoup4 in /usr/local/lib/python3.10/dist-packages (4.12.3)\n",
            "Requirement already satisfied: requests in /usr/local/lib/python3.10/dist-packages (2.32.3)\n",
            "Requirement already satisfied: pandas in /usr/local/lib/python3.10/dist-packages (2.1.4)\n",
            "Requirement already satisfied: soupsieve>1.2 in /usr/local/lib/python3.10/dist-packages (from beautifulsoup4) (2.6)\n",
            "Requirement already satisfied: charset-normalizer<4,>=2 in /usr/local/lib/python3.10/dist-packages (from requests) (3.3.2)\n",
            "Requirement already satisfied: idna<4,>=2.5 in /usr/local/lib/python3.10/dist-packages (from requests) (3.10)\n",
            "Requirement already satisfied: urllib3<3,>=1.21.1 in /usr/local/lib/python3.10/dist-packages (from requests) (2.2.3)\n",
            "Requirement already satisfied: certifi>=2017.4.17 in /usr/local/lib/python3.10/dist-packages (from requests) (2024.8.30)\n",
            "Requirement already satisfied: numpy<2,>=1.22.4 in /usr/local/lib/python3.10/dist-packages (from pandas) (1.26.4)\n",
            "Requirement already satisfied: python-dateutil>=2.8.2 in /usr/local/lib/python3.10/dist-packages (from pandas) (2.8.2)\n",
            "Requirement already satisfied: pytz>=2020.1 in /usr/local/lib/python3.10/dist-packages (from pandas) (2024.2)\n",
            "Requirement already satisfied: tzdata>=2022.1 in /usr/local/lib/python3.10/dist-packages (from pandas) (2024.1)\n",
            "Requirement already satisfied: six>=1.5 in /usr/local/lib/python3.10/dist-packages (from python-dateutil>=2.8.2->pandas) (1.16.0)\n"
          ]
        }
      ]
    },
    {
      "cell_type": "code",
      "source": [
        "import requests\n",
        "from bs4 import BeautifulSoup\n",
        "import pandas as pd\n",
        "\n",
        "# URL of the first page of the bookstore\n",
        "url = 'https://books.toscrape.com/'\n",
        "\n",
        "# Send a request to fetch the page content\n",
        "response = requests.get(url)\n",
        "\n",
        "# Create a BeautifulSoup object to parse the HTML content\n",
        "soup = BeautifulSoup(response.text, 'html.parser')\n",
        "\n",
        "# Find all book containers\n",
        "books = soup.find_all('article', class_='product_pod')\n",
        "\n",
        "# Lists to store the extracted information\n",
        "titles = []\n",
        "prices = []\n",
        "availabilities = []\n",
        "ratings = []\n",
        "\n",
        "# Dictionary to convert rating text to numerical scale\n",
        "rating_dict = {\n",
        "    'One': 1,\n",
        "    'Two': 2,\n",
        "    'Three': 3,\n",
        "    'Four': 4,\n",
        "    'Five': 5\n",
        "}\n",
        "\n",
        "# Loop through all the books and extract details\n",
        "for book in books:\n",
        "    # Extract book title\n",
        "    title = book.h3.a['title']\n",
        "    titles.append(title)\n",
        "\n",
        "    # Extract book price\n",
        "    price = book.find('p', class_='price_color').text.strip('£')\n",
        "    prices.append(price)\n",
        "\n",
        "    # Extract availability status\n",
        "    availability = book.find('p', class_='instock availability').text.strip()\n",
        "    availabilities.append(availability)\n",
        "\n",
        "    # Extract rating\n",
        "    rating_class = book.find('p', class_='star-rating')['class']\n",
        "    rating = rating_dict.get(rating_class[1], 0)  # Second class is the rating\n",
        "    ratings.append(rating)\n",
        "\n",
        "# Create a DataFrame to store the scraped data\n",
        "df = pd.DataFrame({\n",
        "    'Title': titles,\n",
        "    'Price': prices,\n",
        "    'Availability': availabilities,\n",
        "    'Rating': ratings\n",
        "})\n",
        "\n",
        "print(df)\n",
        "\n",
        "# Save the DataFrame to a CSV file\n",
        "df.to_csv('books.csv', index=False)\n",
        "\n",
        "print(\"Data has been scraped and saved to 'books.csv'.\")\n"
      ],
      "metadata": {
        "colab": {
          "base_uri": "https://localhost:8080/"
        },
        "id": "fJeCes-m7ZWL",
        "outputId": "cd66d0c4-8d52-466e-e9e0-b1d2bbe6efee"
      },
      "execution_count": 11,
      "outputs": [
        {
          "output_type": "stream",
          "name": "stdout",
          "text": [
            "                                                Title    Price Availability  \\\n",
            "0                                A Light in the Attic  Â£51.77     In stock   \n",
            "1                                  Tipping the Velvet  Â£53.74     In stock   \n",
            "2                                          Soumission  Â£50.10     In stock   \n",
            "3                                       Sharp Objects  Â£47.82     In stock   \n",
            "4               Sapiens: A Brief History of Humankind  Â£54.23     In stock   \n",
            "5                                     The Requiem Red  Â£22.65     In stock   \n",
            "6   The Dirty Little Secrets of Getting Your Dream...  Â£33.34     In stock   \n",
            "7   The Coming Woman: A Novel Based on the Life of...  Â£17.93     In stock   \n",
            "8   The Boys in the Boat: Nine Americans and Their...  Â£22.60     In stock   \n",
            "9                                     The Black Maria  Â£52.15     In stock   \n",
            "10     Starving Hearts (Triangular Trade Trilogy, #1)  Â£13.99     In stock   \n",
            "11                              Shakespeare's Sonnets  Â£20.66     In stock   \n",
            "12                                        Set Me Free  Â£17.46     In stock   \n",
            "13  Scott Pilgrim's Precious Little Life (Scott Pi...  Â£52.29     In stock   \n",
            "14                          Rip it Up and Start Again  Â£35.02     In stock   \n",
            "15  Our Band Could Be Your Life: Scenes from the A...  Â£57.25     In stock   \n",
            "16                                               Olio  Â£23.88     In stock   \n",
            "17  Mesaerion: The Best Science Fiction Stories 18...  Â£37.59     In stock   \n",
            "18                       Libertarianism for Beginners  Â£51.33     In stock   \n",
            "19                            It's Only the Himalayas  Â£45.17     In stock   \n",
            "\n",
            "    Rating  \n",
            "0        3  \n",
            "1        1  \n",
            "2        1  \n",
            "3        4  \n",
            "4        5  \n",
            "5        1  \n",
            "6        4  \n",
            "7        3  \n",
            "8        4  \n",
            "9        1  \n",
            "10       2  \n",
            "11       4  \n",
            "12       5  \n",
            "13       5  \n",
            "14       5  \n",
            "15       3  \n",
            "16       1  \n",
            "17       1  \n",
            "18       2  \n",
            "19       2  \n",
            "Data has been scraped and saved to 'books.csv'.\n"
          ]
        }
      ]
    }
  ]
}