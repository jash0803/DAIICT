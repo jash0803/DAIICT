{
 "cells": [
  {
   "cell_type": "markdown",
   "metadata": {
    "id": "BgeRBnfUjGKJ"
   },
   "source": [
    "  # **Exploratory Data Analysis Lab-3**\n",
    "* Jash Shah\n",
    "*   202201016"
   ]
  },
  {
   "cell_type": "code",
   "execution_count": 1,
   "metadata": {
    "id": "_kYvcx5qTjNK"
   },
   "outputs": [],
   "source": [
    "import pandas as pd"
   ]
  },
  {
   "cell_type": "code",
   "execution_count": null,
   "metadata": {
    "colab": {
     "base_uri": "https://localhost:8080/"
    },
    "id": "ajjS-wPDxUxG",
    "outputId": "5801c1f5-3ae9-49e8-df9b-0082f169cd4a"
   },
   "outputs": [],
   "source": [
    "from google.colab import drive\n",
    "drive.mount(\"/content/gdrive\")"
   ]
  },
  {
   "cell_type": "markdown",
   "metadata": {
    "id": "YSeN0z6oeWgQ"
   },
   "source": [
    "### **Loading** **DataSet**"
   ]
  },
  {
   "cell_type": "code",
   "execution_count": null,
   "metadata": {
    "colab": {
     "base_uri": "https://localhost:8080/",
     "height": 377
    },
    "id": "b46nzaw8Ukuq",
    "outputId": "2dc05904-b47a-4fdc-d0a3-29f54948c914"
   },
   "outputs": [],
   "source": [
    "df = pd.read_csv(r\"/content/gdrive/My Drive/EDA/Assignment_1/melb_data.csv\")\n",
    "df.head(5)"
   ]
  },
  {
   "cell_type": "code",
   "execution_count": 4,
   "metadata": {
    "colab": {
     "base_uri": "https://localhost:8080/"
    },
    "id": "h7MW8ogDa9cV",
    "outputId": "ad8cc54f-49ae-49b7-a41f-025ae820e92f"
   },
   "outputs": [
    {
     "ename": "NameError",
     "evalue": "name 'df' is not defined",
     "output_type": "error",
     "traceback": [
      "\u001b[1;31m---------------------------------------------------------------------------\u001b[0m",
      "\u001b[1;31mNameError\u001b[0m                                 Traceback (most recent call last)",
      "Cell \u001b[1;32mIn[4], line 1\u001b[0m\n\u001b[1;32m----> 1\u001b[0m \u001b[38;5;28mprint\u001b[39m(\u001b[38;5;124m\"\u001b[39m\u001b[38;5;124mNumber of rows: \u001b[39m\u001b[38;5;124m\"\u001b[39m , \u001b[43mdf\u001b[49m\u001b[38;5;241m.\u001b[39mshape[\u001b[38;5;241m0\u001b[39m])\n\u001b[0;32m      2\u001b[0m \u001b[38;5;28mprint\u001b[39m(\u001b[38;5;124m\"\u001b[39m\u001b[38;5;124mNumber of columns: \u001b[39m\u001b[38;5;124m\"\u001b[39m , df\u001b[38;5;241m.\u001b[39mshape[\u001b[38;5;241m1\u001b[39m])\n\u001b[0;32m      3\u001b[0m \u001b[38;5;28mprint\u001b[39m(\u001b[38;5;124m\"\u001b[39m\u001b[38;5;124mTotal cells: \u001b[39m\u001b[38;5;124m\"\u001b[39m , (df\u001b[38;5;241m.\u001b[39mshape[\u001b[38;5;241m0\u001b[39m]\u001b[38;5;241m*\u001b[39mdf\u001b[38;5;241m.\u001b[39mshape[\u001b[38;5;241m1\u001b[39m]))\n",
      "\u001b[1;31mNameError\u001b[0m: name 'df' is not defined"
     ]
    }
   ],
   "source": [
    "print(\"Number of rows: \" , df.shape[0])\n",
    "print(\"Number of columns: \" , df.shape[1])\n",
    "print(\"Total cells: \" , (df.shape[0]*df.shape[1]))"
   ]
  },
  {
   "cell_type": "markdown",
   "metadata": {
    "id": "bUH8c7bAfCnD"
   },
   "source": [
    "## **Drop the duplicate rows if any exist**"
   ]
  },
  {
   "cell_type": "code",
   "execution_count": null,
   "metadata": {
    "id": "oY8IYwkDWdN0"
   },
   "outputs": [],
   "source": [
    "df.drop_duplicates(inplace = True)"
   ]
  },
  {
   "cell_type": "code",
   "execution_count": null,
   "metadata": {
    "colab": {
     "base_uri": "https://localhost:8080/"
    },
    "id": "iEJW9GrfvlvK",
    "outputId": "ec14538a-7994-4f08-eab1-51f37b2a6b49"
   },
   "outputs": [
    {
     "name": "stdout",
     "output_type": "stream",
     "text": [
      "<class 'pandas.core.frame.DataFrame'>\n",
      "RangeIndex: 13580 entries, 0 to 13579\n",
      "Data columns (total 21 columns):\n",
      " #   Column         Non-Null Count  Dtype  \n",
      "---  ------         --------------  -----  \n",
      " 0   Suburb         13580 non-null  object \n",
      " 1   Address        13580 non-null  object \n",
      " 2   Rooms          13580 non-null  int64  \n",
      " 3   Type           13580 non-null  object \n",
      " 4   Price          13580 non-null  float64\n",
      " 5   Method         13580 non-null  object \n",
      " 6   SellerG        13580 non-null  object \n",
      " 7   Date           13580 non-null  object \n",
      " 8   Distance       13580 non-null  float64\n",
      " 9   Postcode       13580 non-null  float64\n",
      " 10  Bedroom2       13580 non-null  float64\n",
      " 11  Bathroom       13580 non-null  float64\n",
      " 12  Car            13518 non-null  float64\n",
      " 13  Landsize       13580 non-null  float64\n",
      " 14  BuildingArea   7130 non-null   float64\n",
      " 15  YearBuilt      8205 non-null   float64\n",
      " 16  CouncilArea    12211 non-null  object \n",
      " 17  Lattitude      13580 non-null  float64\n",
      " 18  Longtitude     13580 non-null  float64\n",
      " 19  Regionname     13580 non-null  object \n",
      " 20  Propertycount  13580 non-null  float64\n",
      "dtypes: float64(12), int64(1), object(8)\n",
      "memory usage: 2.2+ MB\n"
     ]
    }
   ],
   "source": [
    "df.info()"
   ]
  },
  {
   "cell_type": "code",
   "execution_count": null,
   "metadata": {
    "colab": {
     "base_uri": "https://localhost:8080/"
    },
    "id": "VaA9ggw5vlvK",
    "outputId": "004fa5e7-b329-4ef2-fcb0-d533e9f4932b"
   },
   "outputs": [
    {
     "name": "stdout",
     "output_type": "stream",
     "text": [
      "Index(['Car', 'BuildingArea', 'YearBuilt', 'CouncilArea'], dtype='object')\n"
     ]
    }
   ],
   "source": [
    "# print(df.isnull().sum() )\n",
    "columns_with_nulls = df.columns[df.isnull().sum() > 0]\n",
    "print(columns_with_nulls)"
   ]
  },
  {
   "cell_type": "code",
   "execution_count": null,
   "metadata": {
    "colab": {
     "base_uri": "https://localhost:8080/"
    },
    "id": "7LT_7UNqvlvL",
    "outputId": "a9e619a3-02eb-4488-ae68-cdb2d0d8b575"
   },
   "outputs": [
    {
     "name": "stdout",
     "output_type": "stream",
     "text": [
      "Car              0.456554\n",
      "BuildingArea    47.496318\n",
      "YearBuilt       39.580265\n",
      "CouncilArea     10.081001\n",
      "dtype: float64\n"
     ]
    }
   ],
   "source": [
    "def getPerMiss(df):\n",
    "    percentage_missing = (df.isnull().sum() / df.shape[0]) * 100\n",
    "\n",
    "    # Filter columns with more than 0% missing data\n",
    "    columns_with_missing = percentage_missing[percentage_missing > 0]\n",
    "    return columns_with_missing\n",
    "\n",
    "columns_with_missing = getPerMiss(df)\n",
    "print(columns_with_missing)"
   ]
  },
  {
   "cell_type": "markdown",
   "metadata": {
    "id": "wzvMzEgKvlvL"
   },
   "source": [
    "## Handling Missing Values\n",
    "\n",
    "***1. Deleting the columns with missing data***"
   ]
  },
  {
   "cell_type": "code",
   "execution_count": null,
   "metadata": {
    "colab": {
     "base_uri": "https://localhost:8080/"
    },
    "id": "Hpw1NvzVvlvL",
    "outputId": "7034930f-93f0-40ec-ca7d-a9f4b9a61cfa"
   },
   "outputs": [
    {
     "name": "stdout",
     "output_type": "stream",
     "text": [
      "Original Shape (13580, 21)\n",
      "Updated Shape (13580, 17)\n"
     ]
    }
   ],
   "source": [
    "updated_df = df.dropna(axis=1)\n",
    "print(\"Original Shape\", df.shape)\n",
    "print(\"Updated Shape\", updated_df.shape)"
   ]
  },
  {
   "cell_type": "markdown",
   "metadata": {
    "id": "sBsReXguvlvL"
   },
   "source": [
    "The problem with this method is that we may lose valuable information on that feature, as we have deleted it completely due to some null values.\n",
    "\n",
    "This method should only be used if there are too many null values."
   ]
  },
  {
   "cell_type": "markdown",
   "metadata": {
    "id": "YpAVZeHKvlvL"
   },
   "source": [
    "***2. Deleting the rows with missing data***"
   ]
  },
  {
   "cell_type": "code",
   "execution_count": null,
   "metadata": {
    "colab": {
     "base_uri": "https://localhost:8080/"
    },
    "id": "0k6VpK25vlvL",
    "outputId": "98ba9456-2681-4665-cc6e-9d1a9b9ad989"
   },
   "outputs": [
    {
     "name": "stdout",
     "output_type": "stream",
     "text": [
      "Original Shape (13580, 21)\n",
      "Updated Shape (6196, 21)\n"
     ]
    }
   ],
   "source": [
    "updated_df = df.dropna(axis = 0)\n",
    "print(\"Original Shape\", df.shape)\n",
    "print(\"Updated Shape\", updated_df.shape)"
   ]
  },
  {
   "cell_type": "markdown",
   "metadata": {
    "id": "W9vN_ClAvlvM"
   },
   "source": [
    "In this method, we might get better accuracy than the previous method. It can be beacuse the columns contain more valuable information than we expected."
   ]
  },
  {
   "cell_type": "markdown",
   "metadata": {
    "id": "5cbetuxRvlvM"
   },
   "source": [
    "***3. Filling the Missing Values – Imputation***"
   ]
  },
  {
   "cell_type": "markdown",
   "metadata": {
    "id": "11e7L_01vlvM"
   },
   "source": [
    "In this case, we will be filling the missing values with a certain number.\n",
    "\n",
    "The possible ways to do this are:\n",
    "\n",
    "- Filling the missing data with the mean or median value if it’s a numerical variable.\n",
    "- Filling the missing data with mode if it’s a categorical value.\n",
    "- Filling the numerical value with 0 or -999, or some other number that will not occur in the data. This can be done so that the machine can recognize that the data is not real or is different.\n",
    "- Filling the categorical value with a new type for the missing values."
   ]
  },
  {
   "cell_type": "code",
   "execution_count": null,
   "metadata": {
    "colab": {
     "base_uri": "https://localhost:8080/"
    },
    "id": "_Era3MuCvlvM",
    "outputId": "0eadca13-a48e-448b-a65a-8880807afc60"
   },
   "outputs": [
    {
     "name": "stdout",
     "output_type": "stream",
     "text": [
      "After Imputing with Mode in Car Field\n",
      "BuildingArea    47.496318\n",
      "YearBuilt       39.580265\n",
      "CouncilArea     10.081001\n",
      "dtype: float64\n",
      "\n",
      "After Imputing with Median in YearBuilt Field\n",
      "BuildingArea    47.496318\n",
      "CouncilArea     10.081001\n",
      "dtype: float64\n"
     ]
    }
   ],
   "source": [
    "print(\"After Imputing with Mode in Car Field\")\n",
    "updated_df = df\n",
    "updated_df['Car']=updated_df['Car'].fillna(df['Car'].median())\n",
    "columns_with_missing = getPerMiss(updated_df)\n",
    "print(columns_with_missing)\n",
    "\n",
    "print(\"\")\n",
    "\n",
    "print(\"After Imputing with Median in YearBuilt Field\")\n",
    "updated_df['YearBuilt'] = updated_df['YearBuilt'].fillna(df['YearBuilt'].median())\n",
    "columns_with_missing = getPerMiss(updated_df)\n",
    "print(columns_with_missing)\n"
   ]
  },
  {
   "cell_type": "markdown",
   "metadata": {
    "id": "S8tb9THbvlvM"
   },
   "source": [
    "The missing data percentage of car has been reduced to zero due to imputation of median as median seems to be alright for number of cars for a parking permit & for Year of Building. The same can be done for other fields too."
   ]
  },
  {
   "cell_type": "markdown",
   "metadata": {
    "id": "zTvMV5I6vlvM"
   },
   "source": [
    "***4. Forward & Backward Filling – Imputation***"
   ]
  },
  {
   "cell_type": "code",
   "execution_count": null,
   "metadata": {
    "colab": {
     "base_uri": "https://localhost:8080/"
    },
    "id": "rWS8MO1ovlvM",
    "outputId": "f9bc7001-49f7-4f6f-f4ec-7ad82702537e"
   },
   "outputs": [
    {
     "name": "stdout",
     "output_type": "stream",
     "text": [
      "CouncilArea    10.081001\n",
      "dtype: float64\n"
     ]
    }
   ],
   "source": [
    "df1 = df\n",
    "df1['BuildingArea'] = df1['BuildingArea'].bfill() # Backward Filling\n",
    "coloumns_with_missing = getPerMiss(df1)\n",
    "print(coloumns_with_missing)"
   ]
  },
  {
   "cell_type": "code",
   "execution_count": null,
   "metadata": {
    "colab": {
     "base_uri": "https://localhost:8080/"
    },
    "id": "eOL8hbznvlvN",
    "outputId": "f0a3b5f0-71b5-41c5-fcd3-ff2715a335e7"
   },
   "outputs": [
    {
     "name": "stdout",
     "output_type": "stream",
     "text": [
      "Series([], dtype: float64)\n"
     ]
    }
   ],
   "source": [
    "df1['CouncilArea'] = df1['CouncilArea'].ffill() # Forward Filling\n",
    "coloumns_with_missing = getPerMiss(df1)\n",
    "print(coloumns_with_missing)"
   ]
  },
  {
   "cell_type": "markdown",
   "metadata": {
    "id": "PiU4guRmvlvN"
   },
   "source": [
    "Here, the output shows that there are no remaining NULL values which shows that no data is missing."
   ]
  }
 ],
 "metadata": {
  "colab": {
   "provenance": []
  },
  "kernelspec": {
   "display_name": "Python 3",
   "name": "python3"
  },
  "language_info": {
   "codemirror_mode": {
    "name": "ipython",
    "version": 3
   },
   "file_extension": ".py",
   "mimetype": "text/x-python",
   "name": "python",
   "nbconvert_exporter": "python",
   "pygments_lexer": "ipython3",
   "version": "3.12.2"
  }
 },
 "nbformat": 4,
 "nbformat_minor": 0
}
