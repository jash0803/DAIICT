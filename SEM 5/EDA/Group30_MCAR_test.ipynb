{
  "nbformat": 4,
  "nbformat_minor": 0,
  "metadata": {
    "colab": {
      "provenance": []
    },
    "kernelspec": {
      "name": "python3",
      "display_name": "Python 3"
    },
    "language_info": {
      "name": "python"
    }
  },
  "cells": [
    {
      "cell_type": "markdown",
      "source": [
        "# Manual Implementation of Little's MCAR Test"
      ],
      "metadata": {
        "id": "_x5osafIgz-X"
      }
    },
    {
      "cell_type": "code",
      "source": [
        "import numpy as np\n",
        "import pandas as pd\n",
        "from scipy.stats import chi2\n",
        "\n",
        "# Helper function to calculate Little's MCAR test\n",
        "def little_mcar_test(data):\n",
        "  n = len(data)\n",
        "  groups = []\n",
        "  for col in data.columns:\n",
        "    mask = data[col].isnull()\n",
        "    if mask.any():\n",
        "      groups.append(mask.astype(int).values.reshape(-1, 1))\n",
        "  if len(groups) == 0:\n",
        "    raise ValueError(\"No missing data found.\")\n",
        "  r = np.concatenate(groups, axis=1)\n",
        "  group_stats = r.T @ r\n",
        "  m = len(groups)\n",
        "  df = (n - 1) * m\n",
        "  chi2_stat = group_stats.trace()\n",
        "  p_value = chi2.sf(chi2_stat, df)\n",
        "  if p_value < 0.05:\n",
        "    print(\"The data are not MCAR.\")\n",
        "  else:\n",
        "    print(\"The data are MCAR.\")\n",
        "\n",
        "  return {\"chi2_stat\": chi2_stat, \"degrees_of_freedom\": df, \"p_value\": p_value}\n",
        "\n",
        "data = pd.read_csv('/content/House Prices.csv')\n",
        "little_mcar_test(data)"
      ],
      "metadata": {
        "colab": {
          "base_uri": "https://localhost:8080/"
        },
        "id": "UTbipyA4gAq2",
        "outputId": "aa5337a4-edca-40de-fc0f-61c725f4d395"
      },
      "execution_count": 3,
      "outputs": [
        {
          "output_type": "stream",
          "name": "stdout",
          "text": [
            "The data are MCAR.\n"
          ]
        },
        {
          "output_type": "execute_result",
          "data": {
            "text/plain": [
              "{'chi2_stat': 7829, 'degrees_of_freedom': 27721, 'p_value': 1.0}"
            ]
          },
          "metadata": {},
          "execution_count": 3
        }
      ]
    },
    {
      "cell_type": "markdown",
      "source": [
        "**Interpreting the Results**\n",
        "\n",
        "Chi-square statistic: This measures how much the observed missing data pattern deviates from what would be expected if the data were\n",
        "MCAR.\n",
        "\n",
        "Degrees of freedom: The number of independent pieces of information used to calculate the chi-square statistic.\n",
        "\n",
        "P-value: If this value is below a certain threshold (commonly 0.05), it suggests that the data are not MCAR.\n",
        "\n"
      ],
      "metadata": {
        "id": "MxvxsWeugqp_"
      }
    }
  ]
}