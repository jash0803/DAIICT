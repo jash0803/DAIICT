{
 "cells": [
  {
   "cell_type": "markdown",
   "metadata": {},
   "source": [
    "NAME: JASH SHAH\n",
    "STUDENT ID: 202201016"
   ]
  },
  {
   "cell_type": "code",
   "execution_count": 5,
   "metadata": {},
   "outputs": [],
   "source": [
    "import pandas as pd\n",
    "import requests\n",
    "from bs4 import BeautifulSoup"
   ]
  },
  {
   "cell_type": "code",
   "execution_count": 2,
   "metadata": {},
   "outputs": [
    {
     "name": "stdout",
     "output_type": "stream",
     "text": [
      "Data successfully written to book_data.csv\n"
     ]
    }
   ],
   "source": [
    "pages = []\n",
    "for i in range(1,51):\n",
    "    url = 'http://books.toscrape.com/catalogue/page-' + str(i) + '.html'\n",
    "    pages.append(url)\n",
    "\n",
    "url_data = []\n",
    "\n",
    "mapping = {\n",
    "    'One':1,'Twp':2,'Three':3,'Four':4,'Five':5\n",
    "}\n",
    "\n",
    "for url in pages:\n",
    "    response = requests.get(url)\n",
    "    soup = BeautifulSoup(response.content,'html.parser')\n",
    "\n",
    "    book_data = []\n",
    "\n",
    "    books = soup.find_all('article',class_ = 'product_pod')\n",
    "\n",
    "\n",
    "    for book in books:\n",
    "        title = book.h3.a['title']\n",
    "        # print(title)\n",
    "\n",
    "        price = book.find('p',class_ = 'price_color').text.strip()\n",
    "        price = float(price.replace('£', ''))\n",
    "        # print(price)\n",
    "\n",
    "        availability = book.find('p',class_ = 'instock availability').text.strip()\n",
    "        # print(availability)\n",
    "\n",
    "        rating = book.p['class'][1]\n",
    "        # print(rating)\n",
    "\n",
    "        book_data.append([title, price, availability, rating])\n",
    "\n",
    "    url_data.append(book_data)\n",
    "\n",
    "columns = ['Title', 'Price', 'Availability', 'Rating']\n",
    "\n",
    "flattened_data = [book for sublist in url_data for book in sublist]\n",
    "\n",
    "# Create a DataFrame\n",
    "books_df = pd.DataFrame(flattened_data, columns=['Title', 'Price', 'Availability', 'Rating'])\n",
    "books_df['Rating'] = books_df['Rating'].map(mapping)\n",
    "# Save to CSV\n",
    "books_df.to_csv('book_data.csv', index=False)\n",
    "\n",
    "print(\"Data successfully written to book_data.csv\")\n"
   ]
  },
  {
   "cell_type": "code",
   "execution_count": 4,
   "metadata": {},
   "outputs": [
    {
     "name": "stdout",
     "output_type": "stream",
     "text": [
      "                                                 Title  Price Availability  \\\n",
      "0                                 A Light in the Attic  51.77     In stock   \n",
      "1                                   Tipping the Velvet  53.74     In stock   \n",
      "2                                           Soumission  50.10     In stock   \n",
      "3                                        Sharp Objects  47.82     In stock   \n",
      "4                Sapiens: A Brief History of Humankind  54.23     In stock   \n",
      "..                                                 ...    ...          ...   \n",
      "995  Alice in Wonderland (Alice's Adventures in Won...  55.53     In stock   \n",
      "996   Ajin: Demi-Human, Volume 1 (Ajin: Demi-Human #1)  57.06     In stock   \n",
      "997  A Spy's Devotion (The Regency Spies of London #1)  16.97     In stock   \n",
      "998                1st to Die (Women's Murder Club #1)  53.98     In stock   \n",
      "999                 1,000 Places to See Before You Die  26.08     In stock   \n",
      "\n",
      "     Rating  \n",
      "0       3.0  \n",
      "1       1.0  \n",
      "2       1.0  \n",
      "3       4.0  \n",
      "4       5.0  \n",
      "..      ...  \n",
      "995     1.0  \n",
      "996     4.0  \n",
      "997     5.0  \n",
      "998     1.0  \n",
      "999     5.0  \n",
      "\n",
      "[1000 rows x 4 columns]\n"
     ]
    }
   ],
   "source": [
    "print(books_df)"
   ]
  }
 ],
 "metadata": {
  "kernelspec": {
   "display_name": "Python 3",
   "language": "python",
   "name": "python3"
  },
  "language_info": {
   "codemirror_mode": {
    "name": "ipython",
    "version": 3
   },
   "file_extension": ".py",
   "mimetype": "text/x-python",
   "name": "python",
   "nbconvert_exporter": "python",
   "pygments_lexer": "ipython3",
   "version": "3.12.6"
  }
 },
 "nbformat": 4,
 "nbformat_minor": 2
}
