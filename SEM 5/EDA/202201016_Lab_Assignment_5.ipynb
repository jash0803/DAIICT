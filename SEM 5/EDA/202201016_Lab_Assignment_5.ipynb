{
  "nbformat": 4,
  "nbformat_minor": 0,
  "metadata": {
    "colab": {
      "provenance": []
    },
    "kernelspec": {
      "name": "python3",
      "display_name": "Python 3"
    },
    "language_info": {
      "name": "python"
    }
  },
  "cells": [
    {
      "cell_type": "markdown",
      "source": [
        "#NAME: JASH SHAH\n",
        "\n",
        "#STUDENT ID: 202201016"
      ],
      "metadata": {
        "id": "2kp9PKPsDGSO"
      }
    },
    {
      "cell_type": "code",
      "source": [
        "# Import required libraries\n",
        "import requests\n",
        "from bs4 import BeautifulSoup\n",
        "import pandas as pd\n",
        "\n",
        "# Step 1: Fetch the webpage content\n",
        "url = \"https://www.tfrrs.org/\"\n",
        "response = requests.get(url)\n",
        "\n",
        "# Step 2: Parse the webpage content using BeautifulSoup\n",
        "soup = BeautifulSoup(response.text, 'html.parser')\n",
        "\n",
        "# Step 3: Locate the relevant table (Assuming it's the first table on the page)\n",
        "# This will depend on the table structure, but for now, we'll assume a simple table\n",
        "table = soup.find('table')  # Locate the first table in the page\n",
        "\n",
        "# Step 4: Extract the table headers\n",
        "headers = []\n",
        "for th in table.find_all('th'):\n",
        "    headers.append(th.text.strip())\n",
        "\n",
        "# Step 5: Extract the table rows\n",
        "rows = []\n",
        "for row in table.find_all('tr'):\n",
        "    cells = row.find_all('td')\n",
        "    if len(cells) > 0:\n",
        "        row_data = [cell.text.strip() for cell in cells]\n",
        "        rows.append(row_data)\n",
        "\n",
        "# Step 6: Create a DataFrame using the extracted headers and rows\n",
        "df = pd.DataFrame(rows, columns=headers)\n",
        "\n",
        "# Step 7: Perform some basic preprocessing\n",
        "# Handling missing values (fill with NaN)\n",
        "df.replace(\"\", pd.NA, inplace=True)\n",
        "\n",
        "# Convert columns to appropriate data types if needed\n",
        "# This part will depend on the table's contents. For now, we'll assume no specific conversions.\n",
        "\n",
        "# Step 8: Display the first few rows of the DataFrame\n",
        "print(df.head())\n",
        "\n",
        "# Step 9: Save the DataFrame to a CSV file (Optional)\n",
        "df.to_csv('tfrrs_data.csv', index=False)\n"
      ],
      "metadata": {
        "colab": {
          "base_uri": "https://localhost:8080/"
        },
        "id": "n0m5dk_IC7fn",
        "outputId": "2e60ed6c-06c9-4335-c9a2-8fe49b5cb262"
      },
      "execution_count": 3,
      "outputs": [
        {
          "output_type": "stream",
          "name": "stdout",
          "text": [
            "     DATE                                 MEET NAME STATE              VENUE\n",
            "0  Oct 10       PVAMU Clifton Gillard Cross Country    TX       Prairie View\n",
            "1  Oct  9                        Principia Twilight    IL          Principia\n",
            "2  Oct  8                        CCNY John Jay Dual    NY               CCNY\n",
            "3  Oct  6  Queensborough Cross Country Invitational    NY  Van Cortland Park\n",
            "4  Oct  5                  Ted Castaneda XC Classic    CO   Colorado College\n"
          ]
        }
      ]
    },
    {
      "cell_type": "code",
      "source": [
        "print(df)"
      ],
      "metadata": {
        "colab": {
          "base_uri": "https://localhost:8080/"
        },
        "id": "QGGm1PXTDDAp",
        "outputId": "20fcb82e-cddf-4b62-b86f-1dd5b945a442"
      },
      "execution_count": 4,
      "outputs": [
        {
          "output_type": "stream",
          "name": "stdout",
          "text": [
            "      DATE                                 MEET NAME STATE  \\\n",
            "0   Oct 10       PVAMU Clifton Gillard Cross Country    TX   \n",
            "1   Oct  9                        Principia Twilight    IL   \n",
            "2   Oct  8                        CCNY John Jay Dual    NY   \n",
            "3   Oct  6  Queensborough Cross Country Invitational    NY   \n",
            "4   Oct  5                  Ted Castaneda XC Classic    CO   \n",
            "..     ...                                       ...   ...   \n",
            "70  Sep 28                     2024 Cougar Challenge    CA   \n",
            "71  Sep 28         Jessup Cross Country Invitational    CA   \n",
            "72  Sep 28            Harry F. Anderson Invitational    NY   \n",
            "73  Sep 28                       Thomas Invitational    ME   \n",
            "74  Sep 28                   Brown Bear Invitational    MA   \n",
            "\n",
            "                        VENUE  \n",
            "0                Prairie View  \n",
            "1                   Principia  \n",
            "2                        CCNY  \n",
            "3           Van Cortland Park  \n",
            "4            Colorado College  \n",
            "..                        ...  \n",
            "70         Cal St. San Marcos  \n",
            "71  William Jessup University  \n",
            "72           Roberts Wesleyan  \n",
            "73             Thomas College  \n",
            "74              Highland Park  \n",
            "\n",
            "[75 rows x 4 columns]\n"
          ]
        }
      ]
    }
  ]
}